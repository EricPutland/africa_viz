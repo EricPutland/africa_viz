{
 "cells": [
  {
   "cell_type": "code",
   "execution_count": 2,
   "metadata": {
    "collapsed": true
   },
   "outputs": [],
   "source": [
    "import pandas as pd"
   ]
  },
  {
   "cell_type": "code",
   "execution_count": 7,
   "metadata": {
    "collapsed": false
   },
   "outputs": [],
   "source": [
    "africa_iso_code = pd.read_csv('./africa_iso_codes.csv')\n",
    "hs4_2digit = pd.read_csv('./products_prospedia.csv', dtype={'code': str})\n",
    "hs4_2digit = hs4_2digit[hs4_2digit['level'] == '2digit'][['name_short_en','code', 'parent_id']]\n",
    "china_iso_code = 'CHN'\n",
    "\n",
    "## Cleaning because some dumbfuck decided that codes should be numbers and not strings,\n",
    "## And some codes that had 0XXX became XXX.\n",
    "## Good fucking Game\n",
    "\n",
    "def mutate_code_to_4_digit(value):\n",
    "    if len(value) > 4:\n",
    "        return value\n",
    "    return (4 - len(value)) *'0' + value\n",
    "        "
   ]
  },
  {
   "cell_type": "code",
   "execution_count": 8,
   "metadata": {
    "collapsed": false
   },
   "outputs": [],
   "source": [
    "years = [2009, 2010, 2011, 2012, 2013, 2014]"
   ]
  },
  {
   "cell_type": "code",
   "execution_count": 10,
   "metadata": {
    "collapsed": false
   },
   "outputs": [],
   "source": [
    "for year in years:\n",
    "    trade_data = pd.read_csv('./HS92_ccp_%s.csv'%year, dtype={'commoditycode': str} )\n",
    "    africa_trade_data = trade_data.loc[\n",
    "        (trade_data['importer'] == china_iso_code) & \\\n",
    "        (trade_data['exporter'].isin(africa_iso_code['3digit']))\n",
    "    ]\n",
    "    \n",
    "    africa_trade_data = africa_trade_data.assign(commoditycode = lambda x: x['commoditycode'].map(mutate_code_to_4_digit))\n",
    "    africa_trade_data = africa_trade_data.assign(commodity_group = lambda x: x['commoditycode'].map(lambda y: y[0:2]))\n",
    "\n",
    "    data = africa_trade_data.groupby(['commodity_group', 'exporter', 'year']).sum()\n",
    "    data = data.reset_index()\n",
    "    data = data.merge(africa_iso_code, left_on='exporter', right_on='3digit', how='left')\n",
    "    data = data.merge(hs4_2digit, left_on='commodity_group', right_on='code')\n",
    "    data.rename(columns={'name': 'country_name', 'name_short_en': 'product_name'}, inplace=True)\n",
    "    data = data[['commodity_group','product_name', 'export_value', 'import_value','country_name', '2digit', '3digit','year']]\n",
    "\n",
    "    data.to_json('./visualization_data_%s.json' %year, orient='records')"
   ]
  },
  {
   "cell_type": "code",
   "execution_count": null,
   "metadata": {
    "collapsed": false
   },
   "outputs": [],
   "source": []
  },
  {
   "cell_type": "code",
   "execution_count": null,
   "metadata": {
    "collapsed": true
   },
   "outputs": [],
   "source": []
  }
 ],
 "metadata": {
  "kernelspec": {
   "display_name": "Python 3",
   "language": "python",
   "name": "python3"
  },
  "language_info": {
   "codemirror_mode": {
    "name": "ipython",
    "version": 3
   },
   "file_extension": ".py",
   "mimetype": "text/x-python",
   "name": "python",
   "nbconvert_exporter": "python",
   "pygments_lexer": "ipython3",
   "version": "3.5.1"
  }
 },
 "nbformat": 4,
 "nbformat_minor": 0
}
