{
 "cells": [
  {
   "cell_type": "code",
   "execution_count": 1,
   "metadata": {
    "collapsed": true
   },
   "outputs": [],
   "source": [
    "import pandas as pd"
   ]
  },
  {
   "cell_type": "code",
   "execution_count": 2,
   "metadata": {
    "collapsed": false
   },
   "outputs": [],
   "source": [
    "trade_data = pd.read_csv('./HS92_ccp_2014.csv', dtype={'commoditycode': str} )\n",
    "africa_iso_code = pd.read_csv('./africa_iso_codes.csv')\n",
    "hs4_2digit = pd.read_csv('./hs92_atlas.csv', dtype={'code': str})\n",
    "hs4_2digit = hs4_2digit[hs4_2digit['level'] == '2digit'][['name','code']]\n",
    "china_iso_code = 'CHN'"
   ]
  },
  {
   "cell_type": "code",
   "execution_count": 3,
   "metadata": {
    "collapsed": false
   },
   "outputs": [
    {
     "data": {
      "text/plain": [
       "6002452"
      ]
     },
     "execution_count": 3,
     "metadata": {},
     "output_type": "execute_result"
    }
   ],
   "source": [
    "len(trade_data)"
   ]
  },
  {
   "cell_type": "code",
   "execution_count": 4,
   "metadata": {
    "collapsed": false
   },
   "outputs": [],
   "source": [
    "africa_trade_data = trade_data.loc[\n",
    "    (trade_data['importer'] == china_iso_code) & \\\n",
    "    (trade_data['exporter'].isin(africa_iso_code['3digit']))\n",
    "]"
   ]
  },
  {
   "cell_type": "code",
   "execution_count": 5,
   "metadata": {
    "collapsed": false
   },
   "outputs": [
    {
     "data": {
      "text/plain": [
       "35528"
      ]
     },
     "execution_count": 5,
     "metadata": {},
     "output_type": "execute_result"
    }
   ],
   "source": [
    "len(africa_trade_data)"
   ]
  },
  {
   "cell_type": "code",
   "execution_count": 6,
   "metadata": {
    "collapsed": false
   },
   "outputs": [],
   "source": [
    "## Cleaning because some dumbfuck decided that codes should be numbers and not strings,\n",
    "## And some codes that had 0XXX became XXX.\n",
    "## Good fucking Game\n",
    "\n",
    "def mutate_code_to_4_digit(value):\n",
    "    if len(value) > 4:\n",
    "        return value\n",
    "    return (4 - len(value)) *'0' + value\n",
    "        \n",
    "africa_trade_data = africa_trade_data.assign(commoditycode = lambda x: x['commoditycode'].map(mutate_code_to_4_digit))\n",
    "africa_trade_data = africa_trade_data.assign(commodity_group = lambda x: x['commoditycode'].map(lambda y: y[0:2]))\n"
   ]
  },
  {
   "cell_type": "code",
   "execution_count": 7,
   "metadata": {
    "collapsed": false
   },
   "outputs": [],
   "source": [
    "data = africa_trade_data.groupby(['commodity_group', 'exporter']).sum()"
   ]
  },
  {
   "cell_type": "code",
   "execution_count": 8,
   "metadata": {
    "collapsed": false
   },
   "outputs": [
    {
     "data": {
      "text/html": [
       "<div>\n",
       "<table border=\"1\" class=\"dataframe\">\n",
       "  <thead>\n",
       "    <tr style=\"text-align: right;\">\n",
       "      <th></th>\n",
       "      <th></th>\n",
       "      <th>year</th>\n",
       "      <th>export_value</th>\n",
       "      <th>import_value</th>\n",
       "    </tr>\n",
       "    <tr>\n",
       "      <th>commodity_group</th>\n",
       "      <th>exporter</th>\n",
       "      <th></th>\n",
       "      <th></th>\n",
       "      <th></th>\n",
       "    </tr>\n",
       "  </thead>\n",
       "  <tbody>\n",
       "    <tr>\n",
       "      <th rowspan=\"3\" valign=\"top\">99</th>\n",
       "      <th>ZAF</th>\n",
       "      <td>2014</td>\n",
       "      <td>25400000000</td>\n",
       "      <td>192000000</td>\n",
       "    </tr>\n",
       "    <tr>\n",
       "      <th>ZMB</th>\n",
       "      <td>2014</td>\n",
       "      <td>73838</td>\n",
       "      <td>612368</td>\n",
       "    </tr>\n",
       "    <tr>\n",
       "      <th>ZWE</th>\n",
       "      <td>2014</td>\n",
       "      <td>0</td>\n",
       "      <td>331579</td>\n",
       "    </tr>\n",
       "  </tbody>\n",
       "</table>\n",
       "</div>"
      ],
      "text/plain": [
       "                          year  export_value  import_value\n",
       "commodity_group exporter                                  \n",
       "99              ZAF       2014   25400000000     192000000\n",
       "                ZMB       2014         73838        612368\n",
       "                ZWE       2014             0        331579"
      ]
     },
     "execution_count": 8,
     "metadata": {},
     "output_type": "execute_result"
    }
   ],
   "source": [
    "data.tail(3)"
   ]
  },
  {
   "cell_type": "code",
   "execution_count": 9,
   "metadata": {
    "collapsed": false
   },
   "outputs": [],
   "source": [
    "data = data.reset_index()"
   ]
  },
  {
   "cell_type": "code",
   "execution_count": 10,
   "metadata": {
    "collapsed": false
   },
   "outputs": [],
   "source": [
    "data = data.merge(africa_iso_code, left_on='exporter', right_on='3digit', how='left')"
   ]
  },
  {
   "cell_type": "code",
   "execution_count": 11,
   "metadata": {
    "collapsed": false
   },
   "outputs": [
    {
     "data": {
      "text/plain": [
       "Index(['commodity_group', 'exporter', 'year', 'export_value', 'import_value',\n",
       "       'name_x', '2digit', '3digit', 'name_y', 'code'],\n",
       "      dtype='object')"
      ]
     },
     "execution_count": 11,
     "metadata": {},
     "output_type": "execute_result"
    }
   ],
   "source": [
    "data = data.merge(hs4_2digit, left_on='commodity_group', right_on='code')\n",
    "data.columns"
   ]
  },
  {
   "cell_type": "code",
   "execution_count": 12,
   "metadata": {
    "collapsed": false
   },
   "outputs": [],
   "source": [
    "data.rename(columns={'name_x': 'country_name', 'name_y': 'product_name'}, inplace=True)"
   ]
  },
  {
   "cell_type": "code",
   "execution_count": 13,
   "metadata": {
    "collapsed": false
   },
   "outputs": [],
   "source": [
    "data = data[['commodity_group','product_name', 'export_value', 'import_value','country_name', '2digit', '3digit']]"
   ]
  },
  {
   "cell_type": "code",
   "execution_count": 14,
   "metadata": {
    "collapsed": false
   },
   "outputs": [],
   "source": [
    "data.to_csv('./visualization_data.csv')"
   ]
  },
  {
   "cell_type": "code",
   "execution_count": null,
   "metadata": {
    "collapsed": true
   },
   "outputs": [],
   "source": []
  }
 ],
 "metadata": {
  "kernelspec": {
   "display_name": "Python 3",
   "language": "python",
   "name": "python3"
  },
  "language_info": {
   "codemirror_mode": {
    "name": "ipython",
    "version": 3
   },
   "file_extension": ".py",
   "mimetype": "text/x-python",
   "name": "python",
   "nbconvert_exporter": "python",
   "pygments_lexer": "ipython3",
   "version": "3.5.1"
  }
 },
 "nbformat": 4,
 "nbformat_minor": 0
}
